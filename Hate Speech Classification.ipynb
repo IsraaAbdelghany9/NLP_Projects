{
 "cells": [
  {
   "cell_type": "markdown",
   "metadata": {
    "id": "ySsIPBRiorxK"
   },
   "source": [
    "**Dataset**\n",
    "labeled datasset collected from twitter (Lab 1 - Hate Speech.tsv)\n",
    "\n",
    "**Objective**\n",
    "classify tweets containing hate speech from other tweets. <br>\n",
    "0 -> no hate speech <br>\n",
    "1 -> contains hate speech <br>\n",
    "\n",
    "\n",
    "**Evaluation metric**\n",
    "macro f1 score"
   ]
  },
  {
   "cell_type": "markdown",
   "metadata": {
    "id": "v-6lrKz6orxT"
   },
   "source": [
    "### Import used libraries"
   ]
  },
  {
   "cell_type": "code",
   "execution_count": 1,
   "metadata": {
    "id": "eXUPo3g4orxV"
   },
   "outputs": [],
   "source": [
    "import pandas as pd\n",
    "pd.set_option('display.max_rows', 500)\n",
    "pd.set_option('display.max_colwidth', 500)"
   ]
  },
  {
   "cell_type": "markdown",
   "metadata": {
    "id": "fG8MkuvjorxX"
   },
   "source": [
    "### Load Dataset"
   ]
  },
  {
   "cell_type": "markdown",
   "metadata": {},
   "source": [
    "###### Note: search how to load the data from tsv file"
   ]
  },
  {
   "cell_type": "code",
   "execution_count": 5,
   "metadata": {
    "id": "BYeqhp66orxY"
   },
   "outputs": [
    {
     "data": {
      "text/html": [
       "<div>\n",
       "<style scoped>\n",
       "    .dataframe tbody tr th:only-of-type {\n",
       "        vertical-align: middle;\n",
       "    }\n",
       "\n",
       "    .dataframe tbody tr th {\n",
       "        vertical-align: top;\n",
       "    }\n",
       "\n",
       "    .dataframe thead th {\n",
       "        text-align: right;\n",
       "    }\n",
       "</style>\n",
       "<table border=\"1\" class=\"dataframe\">\n",
       "  <thead>\n",
       "    <tr style=\"text-align: right;\">\n",
       "      <th></th>\n",
       "      <th>label</th>\n",
       "      <th>tweet</th>\n",
       "    </tr>\n",
       "    <tr>\n",
       "      <th>id</th>\n",
       "      <th></th>\n",
       "      <th></th>\n",
       "    </tr>\n",
       "  </thead>\n",
       "  <tbody>\n",
       "    <tr>\n",
       "      <th>1</th>\n",
       "      <td>0</td>\n",
       "      <td>@user when a father is dysfunctional and is so selfish he drags his kids into his dysfunction.   #run</td>\n",
       "    </tr>\n",
       "    <tr>\n",
       "      <th>2</th>\n",
       "      <td>0</td>\n",
       "      <td>@user @user thanks for #lyft credit i can't use cause they don't offer wheelchair vans in pdx.    #disapointed #getthanked</td>\n",
       "    </tr>\n",
       "    <tr>\n",
       "      <th>3</th>\n",
       "      <td>0</td>\n",
       "      <td>bihday your majesty</td>\n",
       "    </tr>\n",
       "    <tr>\n",
       "      <th>4</th>\n",
       "      <td>0</td>\n",
       "      <td>#model   i love u take with u all the time in urð±!!! ðððð",
       "ð¦ð¦ð¦</td>\n",
       "    </tr>\n",
       "    <tr>\n",
       "      <th>5</th>\n",
       "      <td>0</td>\n",
       "      <td>factsguide: society now    #motivation</td>\n",
       "    </tr>\n",
       "    <tr>\n",
       "      <th>6</th>\n",
       "      <td>0</td>\n",
       "      <td>[2/2] huge fan fare and big talking before they leave. chaos and pay disputes when they get there. #allshowandnogo</td>\n",
       "    </tr>\n",
       "    <tr>\n",
       "      <th>7</th>\n",
       "      <td>0</td>\n",
       "      <td>@user camping tomorrow @user @user @user @user @user @user @user dannyâ¦</td>\n",
       "    </tr>\n",
       "    <tr>\n",
       "      <th>8</th>\n",
       "      <td>0</td>\n",
       "      <td>the next school year is the year for exams.ð¯ can't think about that ð­ #school #exams   #hate #imagine #actorslife #revolutionschool #girl</td>\n",
       "    </tr>\n",
       "    <tr>\n",
       "      <th>9</th>\n",
       "      <td>0</td>\n",
       "      <td>we won!!! love the land!!! #allin #cavs #champions #cleveland #clevelandcavaliers  â¦</td>\n",
       "    </tr>\n",
       "    <tr>\n",
       "      <th>10</th>\n",
       "      <td>0</td>\n",
       "      <td>@user @user welcome here !  i'm   it's so #gr8 !</td>\n",
       "    </tr>\n",
       "    <tr>\n",
       "      <th>11</th>\n",
       "      <td>0</td>\n",
       "      <td>â #ireland consumer price index (mom) climbed from previous 0.2% to 0.5% in may   #blog #silver #gold #forex</td>\n",
       "    </tr>\n",
       "    <tr>\n",
       "      <th>12</th>\n",
       "      <td>0</td>\n",
       "      <td>we are so selfish. #orlando #standwithorlando #pulseshooting #orlandoshooting #biggerproblems #selfish #heabreaking   #values #love #</td>\n",
       "    </tr>\n",
       "    <tr>\n",
       "      <th>13</th>\n",
       "      <td>0</td>\n",
       "      <td>i get to see my daddy today!!   #80days #gettingfed</td>\n",
       "    </tr>\n",
       "    <tr>\n",
       "      <th>14</th>\n",
       "      <td>1</td>\n",
       "      <td>@user #cnn calls #michigan middle school 'build the wall' chant '' #tcot</td>\n",
       "    </tr>\n",
       "    <tr>\n",
       "      <th>15</th>\n",
       "      <td>1</td>\n",
       "      <td>no comment!  in #australia   #opkillingbay #seashepherd #helpcovedolphins #thecove  #helpcovedolphins</td>\n",
       "    </tr>\n",
       "    <tr>\n",
       "      <th>16</th>\n",
       "      <td>0</td>\n",
       "      <td>ouch...junior is angryð#got7 #junior #yugyoem   #omg</td>\n",
       "    </tr>\n",
       "    <tr>\n",
       "      <th>17</th>\n",
       "      <td>0</td>\n",
       "      <td>i am thankful for having a paner. #thankful #positive</td>\n",
       "    </tr>\n",
       "    <tr>\n",
       "      <th>18</th>\n",
       "      <td>1</td>\n",
       "      <td>retweet if you agree!</td>\n",
       "    </tr>\n",
       "    <tr>\n",
       "      <th>19</th>\n",
       "      <td>0</td>\n",
       "      <td>its #friday! ð smiles all around via ig user: @user #cookies make people</td>\n",
       "    </tr>\n",
       "    <tr>\n",
       "      <th>20</th>\n",
       "      <td>0</td>\n",
       "      <td>as we all know, essential oils are not made of chemicals.</td>\n",
       "    </tr>\n",
       "    <tr>\n",
       "      <th>21</th>\n",
       "      <td>0</td>\n",
       "      <td>#euro2016 people blaming ha for conceded goal was it fat rooney who gave away free kick knowing bale can hit them from there.</td>\n",
       "    </tr>\n",
       "    <tr>\n",
       "      <th>22</th>\n",
       "      <td>0</td>\n",
       "      <td>sad little dude..   #badday #coneofshame #cats #pissed #funny #laughs</td>\n",
       "    </tr>\n",
       "    <tr>\n",
       "      <th>23</th>\n",
       "      <td>0</td>\n",
       "      <td>product of the day: happy man #wine tool  who's   it's the #weekend? time to open up &amp;amp; drink up!</td>\n",
       "    </tr>\n",
       "    <tr>\n",
       "      <th>24</th>\n",
       "      <td>1</td>\n",
       "      <td>@user @user lumpy says i am a . prove it lumpy.</td>\n",
       "    </tr>\n",
       "    <tr>\n",
       "      <th>25</th>\n",
       "      <td>0</td>\n",
       "      <td>@user #tgif   #ff to my #gamedev #indiedev #indiegamedev #squad! @user @user @user @user @user</td>\n",
       "    </tr>\n",
       "    <tr>\n",
       "      <th>26</th>\n",
       "      <td>0</td>\n",
       "      <td>beautiful sign by vendor 80 for $45.00!! #upsideofflorida #shopalyssas   #love</td>\n",
       "    </tr>\n",
       "    <tr>\n",
       "      <th>27</th>\n",
       "      <td>0</td>\n",
       "      <td>@user all #smiles when #media is   !! ðð #pressconference in #antalya #turkey ! sunday #throwback  love! ððâ¤ï¸</td>\n",
       "    </tr>\n",
       "    <tr>\n",
       "      <th>28</th>\n",
       "      <td>0</td>\n",
       "      <td>we had a great panel on the mediatization of the public service   #ica16</td>\n",
       "    </tr>\n",
       "    <tr>\n",
       "      <th>29</th>\n",
       "      <td>0</td>\n",
       "      <td>happy father's day @user ðððð</td>\n",
       "    </tr>\n",
       "    <tr>\n",
       "      <th>30</th>\n",
       "      <td>0</td>\n",
       "      <td>50 people went to nightclub to have a good night and 1 man's actions means those people are lost to their families forever #rip#orlando</td>\n",
       "    </tr>\n",
       "    <tr>\n",
       "      <th>31</th>\n",
       "      <td>0</td>\n",
       "      <td>i have never had a chance to vote for a presidential candidate i was excited about and this cycle looks to be no different.</td>\n",
       "    </tr>\n",
       "    <tr>\n",
       "      <th>32</th>\n",
       "      <td>0</td>\n",
       "      <td>#alohafriday #time does #not #exist #positivevibes #hawaiian @user @user @user @user</td>\n",
       "    </tr>\n",
       "    <tr>\n",
       "      <th>33</th>\n",
       "      <td>0</td>\n",
       "      <td>@user rip to the fellow nohern ireland fan who sadley passed away tonight!.. gawa, forever singing and cheering on fire</td>\n",
       "    </tr>\n",
       "    <tr>\n",
       "      <th>34</th>\n",
       "      <td>0</td>\n",
       "      <td>it was a hard monday due to cloudy weather. disabling oxygen production for today. #goodnight #badmonday</td>\n",
       "    </tr>\n",
       "    <tr>\n",
       "      <th>35</th>\n",
       "      <td>1</td>\n",
       "      <td>it's unbelievable that in the 21st century we'd need something like this. again. #neverump  #xenophobia</td>\n",
       "    </tr>\n",
       "    <tr>\n",
       "      <th>36</th>\n",
       "      <td>0</td>\n",
       "      <td>#taylorswift1989   bull up: you will dominate your bull and you will direct it whatever you want it to do. w</td>\n",
       "    </tr>\n",
       "    <tr>\n",
       "      <th>37</th>\n",
       "      <td>0</td>\n",
       "      <td>morning~~ #travelingram #dalat   #ripinkylife</td>\n",
       "    </tr>\n",
       "    <tr>\n",
       "      <th>38</th>\n",
       "      <td>0</td>\n",
       "      <td>@user once more only one word tells it all: #photoshop.  #enoughisenough #dontphotoshopeverything #wheresallthenaturalphotos</td>\n",
       "    </tr>\n",
       "    <tr>\n",
       "      <th>39</th>\n",
       "      <td>0</td>\n",
       "      <td>oh, #cedarpoint. waited 2 hours in the valravn line and it stopped working. we were so close.</td>\n",
       "    </tr>\n",
       "    <tr>\n",
       "      <th>40</th>\n",
       "      <td>0</td>\n",
       "      <td>i am thankful for sunshine. #thankful #positive</td>\n",
       "    </tr>\n",
       "    <tr>\n",
       "      <th>41</th>\n",
       "      <td>0</td>\n",
       "      <td>when you finally finish a book you've been working on for awhile...  #bookworm #ontothenextnovel</td>\n",
       "    </tr>\n",
       "    <tr>\n",
       "      <th>42</th>\n",
       "      <td>0</td>\n",
       "      <td>yup, being a knicks fan is hard, so its easier to just be an nba fan when the playoffs roll around ð</td>\n",
       "    </tr>\n",
       "    <tr>\n",
       "      <th>43</th>\n",
       "      <td>0</td>\n",
       "      <td>there is life after social networking. embrace each day. be</td>\n",
       "    </tr>\n",
       "    <tr>\n",
       "      <th>44</th>\n",
       "      <td>0</td>\n",
       "      <td>my mom shares the same bihday as @user   bihday snake! see you this weekend ðð¼</td>\n",
       "    </tr>\n",
       "    <tr>\n",
       "      <th>45</th>\n",
       "      <td>0</td>\n",
       "      <td>lovely echeveria blooms#flowers #grow #gardening #iphonesia #bliss #blooms #basilicabotanica</td>\n",
       "    </tr>\n",
       "    <tr>\n",
       "      <th>46</th>\n",
       "      <td>0</td>\n",
       "      <td>i am amazing. #i_am #positive #affirmation</td>\n",
       "    </tr>\n",
       "    <tr>\n",
       "      <th>47</th>\n",
       "      <td>0</td>\n",
       "      <td>#model   i love u take with u all the time in urð±!!! ðððð",
       "ð¦ð¦ð¦</td>\n",
       "    </tr>\n",
       "    <tr>\n",
       "      <th>48</th>\n",
       "      <td>0</td>\n",
       "      <td>#whenever im   and #something goes #wrong  |</td>\n",
       "    </tr>\n",
       "    <tr>\n",
       "      <th>49</th>\n",
       "      <td>0</td>\n",
       "      <td>feeling blue #illustration</td>\n",
       "    </tr>\n",
       "    <tr>\n",
       "      <th>50</th>\n",
       "      <td>0</td>\n",
       "      <td>the best pa about life is knowing who you are! ðâï¸ð¼ð»  â¦</td>\n",
       "    </tr>\n",
       "    <tr>\n",
       "      <th>51</th>\n",
       "      <td>0</td>\n",
       "      <td>#abc2020 getting ready 2 remove the victums frm #pulseclub #prayfororlando</td>\n",
       "    </tr>\n",
       "    <tr>\n",
       "      <th>52</th>\n",
       "      <td>0</td>\n",
       "      <td>for her #bihday we got her a #nose #job @user  ðð¶ððð    #bihday #petunia we love you ð</td>\n",
       "    </tr>\n",
       "    <tr>\n",
       "      <th>53</th>\n",
       "      <td>0</td>\n",
       "      <td>off to concelebrate at the #albanpilgrimage for the first time.   @user</td>\n",
       "    </tr>\n",
       "    <tr>\n",
       "      <th>54</th>\n",
       "      <td>0</td>\n",
       "      <td>@user let the scum-baggery begin.....</td>\n",
       "    </tr>\n",
       "    <tr>\n",
       "      <th>55</th>\n",
       "      <td>0</td>\n",
       "      <td>thank you! ðð super love it! â¤ï¸ zpamdelacruz   #wedding# @ dolores, capas tarlac.</td>\n",
       "    </tr>\n",
       "    <tr>\n",
       "      <th>56</th>\n",
       "      <td>0</td>\n",
       "      <td>a scourge on those playing baroque pieces on piano    beyond belief</td>\n",
       "    </tr>\n",
       "    <tr>\n",
       "      <th>57</th>\n",
       "      <td>1</td>\n",
       "      <td>@user lets fight against  #love #peace</td>\n",
       "    </tr>\n",
       "    <tr>\n",
       "      <th>58</th>\n",
       "      <td>0</td>\n",
       "      <td>happy fatherâs day, mr. rayos #video   #fathers #day #rayos #world #hotvideo #videos</td>\n",
       "    </tr>\n",
       "    <tr>\n",
       "      <th>59</th>\n",
       "      <td>0</td>\n",
       "      <td>@user ascot times with this babe â¤ï¸â¤ï¸ #ascot #fashion #monochrome #style   #instahappyday</td>\n",
       "    </tr>\n",
       "    <tr>\n",
       "      <th>60</th>\n",
       "      <td>0</td>\n",
       "      <td>the weekend..is here!!ððððð #selfie   #yolo #xoxo #like4like</td>\n",
       "    </tr>\n",
       "    <tr>\n",
       "      <th>61</th>\n",
       "      <td>0</td>\n",
       "      <td>happy at work conference: right' mindset leads to culture-of-development organizations    #work #mindset</td>\n",
       "    </tr>\n",
       "    <tr>\n",
       "      <th>62</th>\n",
       "      <td>0</td>\n",
       "      <td>christina grimmie's  last performance before being shot...  via @user #christinarip #voice #christinagrimmie</td>\n",
       "    </tr>\n",
       "    <tr>\n",
       "      <th>63</th>\n",
       "      <td>0</td>\n",
       "      <td>we are ready to dance #roar #preschoolers   #students #proudâ¦</td>\n",
       "    </tr>\n",
       "    <tr>\n",
       "      <th>64</th>\n",
       "      <td>0</td>\n",
       "      <td>you've really hu my feelings :(</td>\n",
       "    </tr>\n",
       "    <tr>\n",
       "      <th>65</th>\n",
       "      <td>0</td>\n",
       "      <td>@user my wife whom i adore had to miss your poland show because she had surgery. her name is bridget &amp;amp; she's my everything.</td>\n",
       "    </tr>\n",
       "    <tr>\n",
       "      <th>66</th>\n",
       "      <td>0</td>\n",
       "      <td>@user i am so jealous of you right now.... #chatiado</td>\n",
       "    </tr>\n",
       "    <tr>\n",
       "      <th>67</th>\n",
       "      <td>0</td>\n",
       "      <td>i celebrate every man that has played it's fatherly role.   father's day#</td>\n",
       "    </tr>\n",
       "    <tr>\n",
       "      <th>68</th>\n",
       "      <td>0</td>\n",
       "      <td>i'm sure they are just as happy.... ðð½ðð½ðð½   hour</td>\n",
       "    </tr>\n",
       "    <tr>\n",
       "      <th>69</th>\n",
       "      <td>1</td>\n",
       "      <td>ð©the white establishment can't have blk folx running around loving themselves and promoting our greatness</td>\n",
       "    </tr>\n",
       "    <tr>\n",
       "      <th>70</th>\n",
       "      <td>0</td>\n",
       "      <td>good morning! the journey begins! ððð»ð³   #travel #yeah #thejourneybegins #helloâ¦</td>\n",
       "    </tr>\n",
       "    <tr>\n",
       "      <th>71</th>\n",
       "      <td>0</td>\n",
       "      <td>@user # if you #luv #hottweets like this from â¶ â¥#venusexchangeâ¥</td>\n",
       "    </tr>\n",
       "    <tr>\n",
       "      <th>72</th>\n",
       "      <td>0</td>\n",
       "      <td>our new brochures have arrived! how exciting!! #aworks #solutions</td>\n",
       "    </tr>\n",
       "    <tr>\n",
       "      <th>73</th>\n",
       "      <td>0</td>\n",
       "      <td>so much stuff happening in florida! first #orlando shooting and now #disneygatorattack on a two year old kidð¥ð</td>\n",
       "    </tr>\n",
       "    <tr>\n",
       "      <th>74</th>\n",
       "      <td>0</td>\n",
       "      <td>@user ferrari will do itðªð¼ for the sake of the championship. this gp is clearly a turning point rb, ferrari,mercs...ð</td>\n",
       "    </tr>\n",
       "    <tr>\n",
       "      <th>75</th>\n",
       "      <td>0</td>\n",
       "      <td>aced my first test!   #proud</td>\n",
       "    </tr>\n",
       "    <tr>\n",
       "      <th>76</th>\n",
       "      <td>0</td>\n",
       "      <td>seeks probe into #udtapunjab' leak, points finger at #amarinder, #aap</td>\n",
       "    </tr>\n",
       "    <tr>\n",
       "      <th>77</th>\n",
       "      <td>0</td>\n",
       "      <td>@user wrapping up #senseaboutmaths @user 6th   @user @user @user</td>\n",
       "    </tr>\n",
       "    <tr>\n",
       "      <th>78</th>\n",
       "      <td>1</td>\n",
       "      <td>@user hey, white people: you can call people 'white' by @user  #race  #identity #medâ¦</td>\n",
       "    </tr>\n",
       "    <tr>\n",
       "      <th>79</th>\n",
       "      <td>0</td>\n",
       "      <td>@user @user you might be. just have not shown here today. regurgitated talking points and name calling?</td>\n",
       "    </tr>\n",
       "    <tr>\n",
       "      <th>80</th>\n",
       "      <td>0</td>\n",
       "      <td>sometimes you have to raise a few brows to raise the bar. #golfstrengthandconditioning   #strong #felixfoisgolf</td>\n",
       "    </tr>\n",
       "    <tr>\n",
       "      <th>81</th>\n",
       "      <td>0</td>\n",
       "      <td>about that ððð #greathonour #careerconvos @user @user</td>\n",
       "    </tr>\n",
       "    <tr>\n",
       "      <th>82</th>\n",
       "      <td>0</td>\n",
       "      <td>@user designing #innovative learning space @user to include #wateringhole #cave #mountaintop #campfire @user   hâ¦</td>\n",
       "    </tr>\n",
       "    <tr>\n",
       "      <th>83</th>\n",
       "      <td>1</td>\n",
       "      <td>how the #altright uses  &amp;amp; insecurity to lure men into #whitesupremacy</td>\n",
       "    </tr>\n",
       "    <tr>\n",
       "      <th>84</th>\n",
       "      <td>0</td>\n",
       "      <td>carrying a gun wouldn't of helped if you can't take it in with you. gun control won't stop the black market! terrorism will get worse!</td>\n",
       "    </tr>\n",
       "    <tr>\n",
       "      <th>85</th>\n",
       "      <td>0</td>\n",
       "      <td>use the power of your mind to #heal your body!! -     #altwaystoheal #healthy   #peace!</td>\n",
       "    </tr>\n",
       "    <tr>\n",
       "      <th>86</th>\n",
       "      <td>0</td>\n",
       "      <td>woohoo!! just over 5 weeks to go!</td>\n",
       "    </tr>\n",
       "    <tr>\n",
       "      <th>87</th>\n",
       "      <td>0</td>\n",
       "      <td>being in a far away place where you have no family members hus</td>\n",
       "    </tr>\n",
       "    <tr>\n",
       "      <th>88</th>\n",
       "      <td>0</td>\n",
       "      <td>ready to rehearse tonight with new music and new videos, look out for the announcement! #midweek #newmusic #watchthisspace #guitar</td>\n",
       "    </tr>\n",
       "    <tr>\n",
       "      <th>89</th>\n",
       "      <td>0</td>\n",
       "      <td>now on monday nights at 8pm on #up channel!!!! i finally get to see what all the fuss is about!!!</td>\n",
       "    </tr>\n",
       "    <tr>\n",
       "      <th>90</th>\n",
       "      <td>0</td>\n",
       "      <td>watching the new episodes of @user on @user</td>\n",
       "    </tr>\n",
       "    <tr>\n",
       "      <th>91</th>\n",
       "      <td>0</td>\n",
       "      <td>@user offline now after a very nice and long night.. ð #snapchat @user   #redhead #vermillionred</td>\n",
       "    </tr>\n",
       "    <tr>\n",
       "      <th>92</th>\n",
       "      <td>0</td>\n",
       "      <td>15 things incredibly   #people do</td>\n",
       "    </tr>\n",
       "    <tr>\n",
       "      <th>93</th>\n",
       "      <td>0</td>\n",
       "      <td>yes! received my acceptance letter for my masters so will be back at @user again in october!    #goodtimes #history</td>\n",
       "    </tr>\n",
       "    <tr>\n",
       "      <th>94</th>\n",
       "      <td>0</td>\n",
       "      <td>daughter riding her bike around driveway, son playing his guitar for us while we enjoy ðº by the campfire... #summeime   #memories</td>\n",
       "    </tr>\n",
       "    <tr>\n",
       "      <th>95</th>\n",
       "      <td>0</td>\n",
       "      <td>omg!!! loving this station!!! way to jam out at work!!! while getting work done of course!!!!   #memories @user</td>\n",
       "    </tr>\n",
       "    <tr>\n",
       "      <th>96</th>\n",
       "      <td>0</td>\n",
       "      <td>@user i'll always hope that one day i'll get to hug you, but i don't think that it's gonna happen anytime soon...</td>\n",
       "    </tr>\n",
       "    <tr>\n",
       "      <th>97</th>\n",
       "      <td>0</td>\n",
       "      <td>#model   i love u take with u all the time in urð±!!! ðððð",
       "ð¦ð¦ð¦</td>\n",
       "    </tr>\n",
       "    <tr>\n",
       "      <th>98</th>\n",
       "      <td>0</td>\n",
       "      <td>couple having sex fat naked japanese girls</td>\n",
       "    </tr>\n",
       "    <tr>\n",
       "      <th>99</th>\n",
       "      <td>0</td>\n",
       "      <td>#hump on that    #hump day #humpersð© @ edwardsville, pennsylvania</td>\n",
       "    </tr>\n",
       "    <tr>\n",
       "      <th>100</th>\n",
       "      <td>0</td>\n",
       "      <td>personalised we... gbp 7.99 get here:  #shop #cool   #home #fun</td>\n",
       "    </tr>\n",
       "  </tbody>\n",
       "</table>\n",
       "</div>"
      ],
      "text/plain": [
       "     label  \\\n",
       "id           \n",
       "1        0   \n",
       "2        0   \n",
       "3        0   \n",
       "4        0   \n",
       "5        0   \n",
       "6        0   \n",
       "7        0   \n",
       "8        0   \n",
       "9        0   \n",
       "10       0   \n",
       "11       0   \n",
       "12       0   \n",
       "13       0   \n",
       "14       1   \n",
       "15       1   \n",
       "16       0   \n",
       "17       0   \n",
       "18       1   \n",
       "19       0   \n",
       "20       0   \n",
       "21       0   \n",
       "22       0   \n",
       "23       0   \n",
       "24       1   \n",
       "25       0   \n",
       "26       0   \n",
       "27       0   \n",
       "28       0   \n",
       "29       0   \n",
       "30       0   \n",
       "31       0   \n",
       "32       0   \n",
       "33       0   \n",
       "34       0   \n",
       "35       1   \n",
       "36       0   \n",
       "37       0   \n",
       "38       0   \n",
       "39       0   \n",
       "40       0   \n",
       "41       0   \n",
       "42       0   \n",
       "43       0   \n",
       "44       0   \n",
       "45       0   \n",
       "46       0   \n",
       "47       0   \n",
       "48       0   \n",
       "49       0   \n",
       "50       0   \n",
       "51       0   \n",
       "52       0   \n",
       "53       0   \n",
       "54       0   \n",
       "55       0   \n",
       "56       0   \n",
       "57       1   \n",
       "58       0   \n",
       "59       0   \n",
       "60       0   \n",
       "61       0   \n",
       "62       0   \n",
       "63       0   \n",
       "64       0   \n",
       "65       0   \n",
       "66       0   \n",
       "67       0   \n",
       "68       0   \n",
       "69       1   \n",
       "70       0   \n",
       "71       0   \n",
       "72       0   \n",
       "73       0   \n",
       "74       0   \n",
       "75       0   \n",
       "76       0   \n",
       "77       0   \n",
       "78       1   \n",
       "79       0   \n",
       "80       0   \n",
       "81       0   \n",
       "82       0   \n",
       "83       1   \n",
       "84       0   \n",
       "85       0   \n",
       "86       0   \n",
       "87       0   \n",
       "88       0   \n",
       "89       0   \n",
       "90       0   \n",
       "91       0   \n",
       "92       0   \n",
       "93       0   \n",
       "94       0   \n",
       "95       0   \n",
       "96       0   \n",
       "97       0   \n",
       "98       0   \n",
       "99       0   \n",
       "100      0   \n",
       "\n",
       "                                                                                                                                               tweet  \n",
       "id                                                                                                                                                    \n",
       "1                                              @user when a father is dysfunctional and is so selfish he drags his kids into his dysfunction.   #run  \n",
       "2                         @user @user thanks for #lyft credit i can't use cause they don't offer wheelchair vans in pdx.    #disapointed #getthanked  \n",
       "3                                                                                                                                bihday your majesty  \n",
       "4                                                               #model   i love u take with u all the time in urð±!!! ðððð\n",
       "ð¦ð¦ð¦  \n",
       "5                                                                                                             factsguide: society now    #motivation  \n",
       "6                                 [2/2] huge fan fare and big talking before they leave. chaos and pay disputes when they get there. #allshowandnogo  \n",
       "7                                                                          @user camping tomorrow @user @user @user @user @user @user @user dannyâ¦  \n",
       "8    the next school year is the year for exams.ð¯ can't think about that ð­ #school #exams   #hate #imagine #actorslife #revolutionschool #girl  \n",
       "9                                                             we won!!! love the land!!! #allin #cavs #champions #cleveland #clevelandcavaliers  â¦  \n",
       "10                                                                                                  @user @user welcome here !  i'm   it's so #gr8 !  \n",
       "11                                    â #ireland consumer price index (mom) climbed from previous 0.2% to 0.5% in may   #blog #silver #gold #forex  \n",
       "12             we are so selfish. #orlando #standwithorlando #pulseshooting #orlandoshooting #biggerproblems #selfish #heabreaking   #values #love #  \n",
       "13                                                                                               i get to see my daddy today!!   #80days #gettingfed  \n",
       "14                                                                          @user #cnn calls #michigan middle school 'build the wall' chant '' #tcot  \n",
       "15                                             no comment!  in #australia   #opkillingbay #seashepherd #helpcovedolphins #thecove  #helpcovedolphins  \n",
       "16                                                                                           ouch...junior is angryð#got7 #junior #yugyoem   #omg  \n",
       "17                                                                                             i am thankful for having a paner. #thankful #positive  \n",
       "18                                                                                                                             retweet if you agree!  \n",
       "19                                                                       its #friday! ð smiles all around via ig user: @user #cookies make people  \n",
       "20                                                                                        as we all know, essential oils are not made of chemicals.   \n",
       "21                     #euro2016 people blaming ha for conceded goal was it fat rooney who gave away free kick knowing bale can hit them from there.  \n",
       "22                                                                             sad little dude..   #badday #coneofshame #cats #pissed #funny #laughs  \n",
       "23                                              product of the day: happy man #wine tool  who's   it's the #weekend? time to open up &amp; drink up!  \n",
       "24                                                                                                   @user @user lumpy says i am a . prove it lumpy.  \n",
       "25                                                    @user #tgif   #ff to my #gamedev #indiedev #indiegamedev #squad! @user @user @user @user @user  \n",
       "26                                                                    beautiful sign by vendor 80 for $45.00!! #upsideofflorida #shopalyssas   #love  \n",
       "27                     @user all #smiles when #media is   !! ðð #pressconference in #antalya #turkey ! sunday #throwback  love! ððâ¤ï¸  \n",
       "28                                                                          we had a great panel on the mediatization of the public service   #ica16  \n",
       "29                                                                                                         happy father's day @user ðððð  \n",
       "30           50 people went to nightclub to have a good night and 1 man's actions means those people are lost to their families forever #rip#orlando  \n",
       "31                       i have never had a chance to vote for a presidential candidate i was excited about and this cycle looks to be no different.  \n",
       "32                                                              #alohafriday #time does #not #exist #positivevibes #hawaiian @user @user @user @user  \n",
       "33                         @user rip to the fellow nohern ireland fan who sadley passed away tonight!.. gawa, forever singing and cheering on fire    \n",
       "34                                          it was a hard monday due to cloudy weather. disabling oxygen production for today. #goodnight #badmonday  \n",
       "35                                           it's unbelievable that in the 21st century we'd need something like this. again. #neverump  #xenophobia  \n",
       "36                                      #taylorswift1989   bull up: you will dominate your bull and you will direct it whatever you want it to do. w  \n",
       "37                                                                                                     morning~~ #travelingram #dalat   #ripinkylife  \n",
       "38                      @user once more only one word tells it all: #photoshop.  #enoughisenough #dontphotoshopeverything #wheresallthenaturalphotos  \n",
       "39                                                   oh, #cedarpoint. waited 2 hours in the valravn line and it stopped working. we were so close.    \n",
       "40                                                                                                   i am thankful for sunshine. #thankful #positive  \n",
       "41                                                  when you finally finish a book you've been working on for awhile...  #bookworm #ontothenextnovel  \n",
       "42                                          yup, being a knicks fan is hard, so its easier to just be an nba fan when the playoffs roll around ð   \n",
       "43                                                                                       there is life after social networking. embrace each day. be  \n",
       "44                                                              my mom shares the same bihday as @user   bihday snake! see you this weekend ðð¼  \n",
       "45                                                      lovely echeveria blooms#flowers #grow #gardening #iphonesia #bliss #blooms #basilicabotanica  \n",
       "46                                                                                                        i am amazing. #i_am #positive #affirmation  \n",
       "47                                                              #model   i love u take with u all the time in urð±!!! ðððð\n",
       "ð¦ð¦ð¦  \n",
       "48                                                                                                      #whenever im   and #something goes #wrong  |  \n",
       "49                                                                                                                        feeling blue #illustration  \n",
       "50                                                                            the best pa about life is knowing who you are! ðâï¸ð¼ð»  â¦  \n",
       "51                                                                        #abc2020 getting ready 2 remove the victums frm #pulseclub #prayfororlando  \n",
       "52                                          for her #bihday we got her a #nose #job @user  ðð¶ððð    #bihday #petunia we love you ð  \n",
       "53                                                                           off to concelebrate at the #albanpilgrimage for the first time.   @user  \n",
       "54                                                                                                             @user let the scum-baggery begin.....  \n",
       "55                                                      thank you! ðð super love it! â¤ï¸ zpamdelacruz   #wedding# @ dolores, capas tarlac.   \n",
       "56                                                                               a scourge on those playing baroque pieces on piano    beyond belief  \n",
       "57                                                                                                            @user lets fight against  #love #peace  \n",
       "58                                                            happy fatherâs day, mr. rayos #video   #fathers #day #rayos #world #hotvideo #videos  \n",
       "59                                                 @user ascot times with this babe â¤ï¸â¤ï¸ #ascot #fashion #monochrome #style   #instahappyday  \n",
       "60                                                                       the weekend..is here!!ððððð #selfie   #yolo #xoxo #like4like  \n",
       "61                                          happy at work conference: right' mindset leads to culture-of-development organizations    #work #mindset  \n",
       "62                                      christina grimmie's  last performance before being shot...  via @user #christinarip #voice #christinagrimmie  \n",
       "63                                                                                   we are ready to dance #roar #preschoolers   #students #proudâ¦  \n",
       "64                                                                                                                   you've really hu my feelings :(  \n",
       "65                   @user my wife whom i adore had to miss your poland show because she had surgery. her name is bridget &amp; she's my everything.  \n",
       "66                                                                                              @user i am so jealous of you right now.... #chatiado  \n",
       "67                                                                         i celebrate every man that has played it's fatherly role.   father's day#  \n",
       "68                                                                               i'm sure they are just as happy.... ðð½ðð½ðð½   hour  \n",
       "69                                      ð©the white establishment can't have blk folx running around loving themselves and promoting our greatness  \n",
       "70                                                    good morning! the journey begins! ððð»ð³   #travel #yeah #thejourneybegins #helloâ¦  \n",
       "71                                                                            @user # if you #luv #hottweets like this from â¶ â¥#venusexchangeâ¥  \n",
       "72                                                                                 our new brochures have arrived! how exciting!! #aworks #solutions  \n",
       "73                              so much stuff happening in florida! first #orlando shooting and now #disneygatorattack on a two year old kidð¥ð  \n",
       "74                  @user ferrari will do itðªð¼ for the sake of the championship. this gp is clearly a turning point rb, ferrari,mercs...ð    \n",
       "75                                                                                                                      aced my first test!   #proud  \n",
       "76                                                                           seeks probe into #udtapunjab' leak, points finger at #amarinder, #aap    \n",
       "77                                                                                  @user wrapping up #senseaboutmaths @user 6th   @user @user @user  \n",
       "78                                                           @user hey, white people: you can call people 'white' by @user  #race  #identity #medâ¦  \n",
       "79                                           @user @user you might be. just have not shown here today. regurgitated talking points and name calling?  \n",
       "80                                   sometimes you have to raise a few brows to raise the bar. #golfstrengthandconditioning   #strong #felixfoisgolf  \n",
       "81                                                                                    about that ððð #greathonour #careerconvos @user @user  \n",
       "82                               @user designing #innovative learning space @user to include #wateringhole #cave #mountaintop #campfire @user   hâ¦  \n",
       "83                                                                         how the #altright uses  &amp; insecurity to lure men into #whitesupremacy  \n",
       "84            carrying a gun wouldn't of helped if you can't take it in with you. gun control won't stop the black market! terrorism will get worse!  \n",
       "85                                                           use the power of your mind to #heal your body!! -     #altwaystoheal #healthy   #peace!  \n",
       "86                                                                                                                 woohoo!! just over 5 weeks to go!  \n",
       "87                                                                                    being in a far away place where you have no family members hus  \n",
       "88              ready to rehearse tonight with new music and new videos, look out for the announcement! #midweek #newmusic #watchthisspace #guitar    \n",
       "89                                                 now on monday nights at 8pm on #up channel!!!! i finally get to see what all the fuss is about!!!  \n",
       "90                                                                                                       watching the new episodes of @user on @user  \n",
       "91                                               @user offline now after a very nice and long night.. ð #snapchat @user   #redhead #vermillionred  \n",
       "92                                                                                                                 15 things incredibly   #people do  \n",
       "93                               yes! received my acceptance letter for my masters so will be back at @user again in october!    #goodtimes #history  \n",
       "94              daughter riding her bike around driveway, son playing his guitar for us while we enjoy ðº by the campfire... #summeime   #memories  \n",
       "95                                   omg!!! loving this station!!! way to jam out at work!!! while getting work done of course!!!!   #memories @user  \n",
       "96                                @user i'll always hope that one day i'll get to hug you, but i don't think that it's gonna happen anytime soon...   \n",
       "97                                                              #model   i love u take with u all the time in urð±!!! ðððð\n",
       "ð¦ð¦ð¦  \n",
       "98                                                                                                        couple having sex fat naked japanese girls  \n",
       "99                                                                             #hump on that    #hump day #humpersð© @ edwardsville, pennsylvania   \n",
       "100                                                                                  personalised we... gbp 7.99 get here:  #shop #cool   #home #fun  "
      ]
     },
     "execution_count": 5,
     "metadata": {},
     "output_type": "execute_result"
    }
   ],
   "source": [
    "df = pd.read_csv(\"Hate Speech.tsv\", sep= \"\\t\", index_col='id')\n",
    "df.head(100)"
   ]
  },
  {
   "cell_type": "code",
   "execution_count": 6,
   "metadata": {},
   "outputs": [
    {
     "data": {
      "text/plain": [
       "label    31535\n",
       "tweet    31535\n",
       "dtype: int64"
      ]
     },
     "execution_count": 6,
     "metadata": {},
     "output_type": "execute_result"
    }
   ],
   "source": [
    "df.count()"
   ]
  },
  {
   "cell_type": "markdown",
   "metadata": {},
   "source": [
    "### Data splitting"
   ]
  },
  {
   "cell_type": "markdown",
   "metadata": {},
   "source": [
    "It is a good practice to split the data before EDA helps maintain the integrity of the machine learning process, prevents data leakage, simulates real-world scenarios more accurately, and ensures reliable model performance evaluation on unseen data."
   ]
  },
  {
   "cell_type": "code",
   "execution_count": null,
   "metadata": {},
   "outputs": [],
   "source": []
  },
  {
   "cell_type": "markdown",
   "metadata": {
    "id": "hqWVKi_GorxZ"
   },
   "source": [
    "### EDA on training data"
   ]
  },
  {
   "cell_type": "markdown",
   "metadata": {
    "id": "R1zxJpFxorxa"
   },
   "source": [
    "- check NaNs"
   ]
  },
  {
   "cell_type": "code",
   "execution_count": null,
   "metadata": {
    "id": "HVEttSujorxa"
   },
   "outputs": [],
   "source": []
  },
  {
   "cell_type": "markdown",
   "metadata": {
    "id": "UwjbzVaIorxb"
   },
   "source": [
    "- check duplicates"
   ]
  },
  {
   "cell_type": "code",
   "execution_count": null,
   "metadata": {
    "id": "J_FlBWISorxb"
   },
   "outputs": [],
   "source": []
  },
  {
   "cell_type": "markdown",
   "metadata": {
    "id": "YjIBFc35orxc"
   },
   "source": [
    "- show a representative sample of data texts to find out required preprocessing steps"
   ]
  },
  {
   "cell_type": "code",
   "execution_count": null,
   "metadata": {
    "id": "zGFKzSCRorxc"
   },
   "outputs": [],
   "source": []
  },
  {
   "cell_type": "markdown",
   "metadata": {
    "id": "UqdSUtbdorxd"
   },
   "source": [
    "- check dataset balancing"
   ]
  },
  {
   "cell_type": "code",
   "execution_count": null,
   "metadata": {
    "id": "JBHrSvXhorxd"
   },
   "outputs": [],
   "source": []
  },
  {
   "cell_type": "markdown",
   "metadata": {
    "id": "x3wl_crkorxd"
   },
   "source": [
    "- Cleaning and Preprocessing are:\n",
    "    - 1\n",
    "    - 2\n",
    "    - 3\n",
    "    - ... etc."
   ]
  },
  {
   "cell_type": "markdown",
   "metadata": {
    "id": "XyJkqK9gorxe"
   },
   "source": [
    "### Cleaning and Preprocessing"
   ]
  },
  {
   "cell_type": "markdown",
   "metadata": {
    "tags": []
   },
   "source": [
    "#### Extra: use custom scikit-learn Transformers"
   ]
  },
  {
   "cell_type": "markdown",
   "metadata": {},
   "source": [
    "Using custom transformers in scikit-learn provides flexibility, reusability, and control over the data transformation process, allowing you to seamlessly integrate with scikit-learn's pipelines, enabling you to combine multiple preprocessing steps and modeling into a single workflow. This makes your code more modular, readable, and easier to maintain."
   ]
  },
  {
   "cell_type": "markdown",
   "metadata": {
    "tags": []
   },
   "source": [
    "##### link: https://www.andrewvillazon.com/custom-scikit-learn-transformers/"
   ]
  },
  {
   "cell_type": "markdown",
   "metadata": {},
   "source": [
    "#### Example usage:"
   ]
  },
  {
   "cell_type": "code",
   "execution_count": null,
   "metadata": {},
   "outputs": [],
   "source": [
    "from sklearn.base import BaseEstimator, TransformerMixin\n",
    "\n",
    "class CustomTransformer(BaseEstimator, TransformerMixin):\n",
    "    def __init__(self, parameter1, parameter2):\n",
    "        self.parameter1 = parameter1\n",
    "        self.parameter2 = parameter2\n",
    "        \n",
    "        # Add any initialization code here\n",
    "    \n",
    "    def fit(self, X, y=None):\n",
    "        # Add code for fitting the transformer here\n",
    "        return X\n",
    "    \n",
    "    def transform(self, X):\n",
    "        # Add code for transforming the data here\n",
    "        transformed_X = X.copy()  # Example: Just copying the data\n",
    "        \n",
    "        # Example transformation\n",
    "        transformed_X['feature1'] = transformed_X['feature1'] * self.parameter1\n",
    "        transformed_X['feature2'] = transformed_X['feature2'] * self.parameter2\n",
    "        \n",
    "        # Do all the needed transformations and data preprocessing here\n",
    "        \n",
    "        return transformed_X\n",
    "    \n",
    "    def fit_transform(self, X, y=None):\n",
    "        # This function combines fit and transform\n",
    "        self.fit(X, y)\n",
    "        return self.transform(X)"
   ]
  },
  {
   "cell_type": "code",
   "execution_count": null,
   "metadata": {
    "id": "GVjzzLhworxe"
   },
   "outputs": [],
   "source": []
  },
  {
   "cell_type": "code",
   "execution_count": null,
   "metadata": {
    "id": "u2EYQvrBorxf"
   },
   "outputs": [],
   "source": []
  },
  {
   "cell_type": "code",
   "execution_count": null,
   "metadata": {},
   "outputs": [],
   "source": []
  },
  {
   "cell_type": "markdown",
   "metadata": {
    "id": "ba0r1ASHorxf"
   },
   "source": [
    "**You  are doing Great so far!**"
   ]
  },
  {
   "cell_type": "markdown",
   "metadata": {
    "id": "R9BhRQbYorxf"
   },
   "source": [
    "### Modelling"
   ]
  },
  {
   "cell_type": "markdown",
   "metadata": {
    "id": "Au1FYDPzorxg"
   },
   "source": [
    "#### Extra: use scikit-learn pipline"
   ]
  },
  {
   "cell_type": "markdown",
   "metadata": {},
   "source": [
    "##### link: https://scikit-learn.org/stable/modules/generated/sklearn.pipeline.Pipeline.html"
   ]
  },
  {
   "cell_type": "markdown",
   "metadata": {},
   "source": [
    "Using pipelines in scikit-learn promotes better code organization, reproducibility, and efficiency in machine learning workflows."
   ]
  },
  {
   "cell_type": "markdown",
   "metadata": {
    "id": "LP5FZzmborxg"
   },
   "source": [
    "#### Example usage:"
   ]
  },
  {
   "cell_type": "code",
   "execution_count": null,
   "metadata": {
    "tags": []
   },
   "outputs": [],
   "source": [
    "from sklearn.pipeline import Pipeline\n",
    "\n",
    "model = LogisticRegression()\n",
    "\n",
    "# Create the pipeline\n",
    "pipeline = Pipeline(steps=[\n",
    "    ('preprocessing', CustomTransformer()),\n",
    "    ('Vectorizing', Vectorizer()),\n",
    "    ('model', model),\n",
    "])\n",
    "\n",
    "# Now you can use the pipeline for training and prediction\n",
    "# pipeline.fit(X_train, y_train)\n",
    "# pipeline.predict(X_test)"
   ]
  },
  {
   "cell_type": "code",
   "execution_count": null,
   "metadata": {},
   "outputs": [],
   "source": []
  },
  {
   "cell_type": "code",
   "execution_count": null,
   "metadata": {},
   "outputs": [],
   "source": []
  },
  {
   "cell_type": "code",
   "execution_count": null,
   "metadata": {},
   "outputs": [],
   "source": []
  },
  {
   "cell_type": "markdown",
   "metadata": {
    "id": "85JlkIQXorxg"
   },
   "source": [
    "#### Evaluation"
   ]
  },
  {
   "cell_type": "markdown",
   "metadata": {},
   "source": [
    "**Evaluation metric:**\n",
    "macro f1 score\n",
    "\n",
    "Macro F1 score is a useful metric in scenarios where you want to evaluate the overall performance of a multi-class classification model, **particularly when the classes are imbalanced**"
   ]
  },
  {
   "cell_type": "markdown",
   "metadata": {},
   "source": [
    "![Calculation](https://assets-global.website-files.com/5d7b77b063a9066d83e1209c/639c3d934e82c1195cdf3c60_macro-f1.webp)"
   ]
  },
  {
   "cell_type": "code",
   "execution_count": null,
   "metadata": {},
   "outputs": [],
   "source": []
  },
  {
   "cell_type": "code",
   "execution_count": null,
   "metadata": {
    "id": "37C70N6Aorxh"
   },
   "outputs": [],
   "source": []
  },
  {
   "cell_type": "code",
   "execution_count": null,
   "metadata": {
    "id": "LxBF_HEsorxh"
   },
   "outputs": [],
   "source": []
  },
  {
   "cell_type": "markdown",
   "metadata": {
    "id": "fhVFUaIcorxh"
   },
   "source": [
    "### Enhancement\n",
    "\n",
    "- Using different vectorizers with different hyperparameters\n",
    "- Trying different ML models and doing hyperparameter tuning"
   ]
  },
  {
   "cell_type": "code",
   "execution_count": null,
   "metadata": {
    "id": "Y4h1Danvorxh"
   },
   "outputs": [],
   "source": []
  },
  {
   "cell_type": "code",
   "execution_count": null,
   "metadata": {
    "id": "ZDsCjdqsorxi"
   },
   "outputs": [],
   "source": []
  },
  {
   "cell_type": "code",
   "execution_count": null,
   "metadata": {},
   "outputs": [],
   "source": []
  },
  {
   "cell_type": "markdown",
   "metadata": {},
   "source": [
    "### Conclusion and final results\n"
   ]
  },
  {
   "cell_type": "code",
   "execution_count": null,
   "metadata": {},
   "outputs": [],
   "source": []
  },
  {
   "cell_type": "code",
   "execution_count": null,
   "metadata": {},
   "outputs": [],
   "source": []
  },
  {
   "cell_type": "markdown",
   "metadata": {
    "id": "Nw1GVnYLorxi"
   },
   "source": [
    "#### Done!"
   ]
  }
 ],
 "metadata": {
  "colab": {
   "provenance": []
  },
  "kernelspec": {
   "display_name": "Python [conda env:base] *",
   "language": "python",
   "name": "conda-base-py"
  },
  "language_info": {
   "codemirror_mode": {
    "name": "ipython",
    "version": 3
   },
   "file_extension": ".py",
   "mimetype": "text/x-python",
   "name": "python",
   "nbconvert_exporter": "python",
   "pygments_lexer": "ipython3",
   "version": "3.11.7"
  }
 },
 "nbformat": 4,
 "nbformat_minor": 4
}
